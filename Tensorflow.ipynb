{
  "nbformat": 4,
  "nbformat_minor": 0,
  "metadata": {
    "colab": {
      "name": "Tensorflow.ipynb",
      "version": "0.3.2",
      "provenance": [],
      "collapsed_sections": [],
      "include_colab_link": true
    },
    "kernelspec": {
      "name": "python3",
      "display_name": "Python 3"
    }
  },
  "cells": [
    {
      "cell_type": "markdown",
      "metadata": {
        "id": "view-in-github",
        "colab_type": "text"
      },
      "source": [
        "<a href=\"https://colab.research.google.com/github/Shyam-Khokhariya/Machine/blob/master/Tensorflow.ipynb\" target=\"_parent\"><img src=\"https://colab.research.google.com/assets/colab-badge.svg\" alt=\"Open In Colab\"/></a>"
      ]
    },
    {
      "metadata": {
        "id": "d6uyVI-V5t1N",
        "colab_type": "code",
        "colab": {}
      },
      "cell_type": "code",
      "source": [
        "import tensorflow as tf\n",
        "import matplotlib.pyplot as plt\n",
        "import numpy as np\n"
      ],
      "execution_count": 0,
      "outputs": []
    },
    {
      "metadata": {
        "id": "Iq19b8FH645C",
        "colab_type": "code",
        "colab": {
          "base_uri": "https://localhost:8080/",
          "height": 517
        },
        "outputId": "a25c362e-5fea-4d45-fbea-d46c2c9b5979"
      },
      "cell_type": "code",
      "source": [
        "(x_train,y_train),(x_test,y_test)=tf.keras.datasets.fashion_mnist.load_data()\n",
        "plt.imshow(x_train[199])\n",
        "x_train = np.expand_dims(x_train,axis=3)\n",
        "print(x_train.shape)\n",
        "y_train = np.expand_dims(y_train,axis=1)\n",
        "print(y_train.shape)"
      ],
      "execution_count": 3,
      "outputs": [
        {
          "output_type": "stream",
          "text": [
            "Downloading data from https://storage.googleapis.com/tensorflow/tf-keras-datasets/train-labels-idx1-ubyte.gz\n",
            "32768/29515 [=================================] - 0s 0us/step\n",
            "Downloading data from https://storage.googleapis.com/tensorflow/tf-keras-datasets/train-images-idx3-ubyte.gz\n",
            "26427392/26421880 [==============================] - 0s 0us/step\n",
            "Downloading data from https://storage.googleapis.com/tensorflow/tf-keras-datasets/t10k-labels-idx1-ubyte.gz\n",
            "8192/5148 [===============================================] - 0s 0us/step\n",
            "Downloading data from https://storage.googleapis.com/tensorflow/tf-keras-datasets/t10k-images-idx3-ubyte.gz\n",
            "4423680/4422102 [==============================] - 0s 0us/step\n",
            "(60000, 28, 28, 1)\n",
            "(60000, 1)\n"
          ],
          "name": "stdout"
        },
        {
          "output_type": "display_data",
          "data": {
            "image/png": "[encoded data removed]",
            "text/plain": [
              "<matplotlib.figure.Figure at 0x7f51755b0a58>"
            ]
          },
          "metadata": {
            "tags": []
          }
        }
      ]
    },
    {
      "metadata": {
        "id": "NguWj_Qa69rP",
        "colab_type": "code",
        "colab": {}
      },
      "cell_type": "code",
      "source": [
        "def ConvNet(img):\n",
        "  print(img.shape)\n",
        "  conv1=tf.layers.conv2d(img,filters=8,kernel_size=[4,4],activation=tf.nn.leaky_relu, use_bias=True,padding='same',strides=[2,2])\n",
        "  print(conv1.shape)\n",
        "  pool1=tf.layers.max_pooling2d(conv1,pool_size=[2,2],strides=[1,1])\n",
        "  print(pool1.shape)\n",
        "  conv2=tf.layers.conv2d(pool1,filters=32,kernel_size=[2,2],activation=tf.nn.leaky_relu, use_bias=True,padding='same',strides=[1,1])\n",
        "  print(conv2.shape)\n",
        "  pool2=tf.layers.max_pooling2d(conv2,pool_size=[1,1],strides=[2,2])\n",
        "  print(pool2.shape)\n",
        "  conv3=tf.layers.conv2d(pool1,filters=32,kernel_size=[2,2],activation=tf.nn.leaky_relu, use_bias=True,padding='same',strides=[2,2])\n",
        "  print(conv3.shape)\n",
        "  pool3=tf.layers.max_pooling2d(conv2,pool_size=[2,2],strides=[2,2])\n",
        "  print(pool3.shape)\n",
        "  flat_img = tf.layers.flatten(pool2)\n",
        "  print(flat_img.shape)\n",
        "  dense1 = tf.layers.dense(flat_img,64)\n",
        "  print(dense1.shape)\n",
        "  dense2 = tf.layers.dense(dense1,1)\n",
        "  print(dense2.shape)\n",
        "  return dense2"
      ],
      "execution_count": 0,
      "outputs": []
    },
    {
      "metadata": {
        "id": "wpVA4wV57Apx",
        "colab_type": "code",
        "colab": {
          "base_uri": "https://localhost:8080/",
          "height": 357
        },
        "outputId": "9f533e44-ee08-4796-fa7d-7eeb62d99e8e"
      },
      "cell_type": "code",
      "source": [
        "x=tf.placeholder(dtype=tf.float32,shape=[None,28,28,1])\n",
        "y=tf.placeholder(dtype=tf.float32,shape=[None,1])\n",
        "y_pred =ConvNet(x)\n",
        "error = tf.reduce_sum(tf.squared_difference(y,y_pred))\n",
        "learning_rate =0.001\n",
        "trainer = tf.train.AdamOptimizer(learning_rate).minimize(error)\n",
        "with tf.Session() as sess:\n",
        "  sess.run(tf.global_variables_initializer())\n",
        "  for i in range(0,10):\n",
        "    loss,_ = sess.run([error,trainer], feed_dict={x:x_train,y:y_train})\n",
        "    print(\"Epoch: {0}, Loss: {1}\".format(i,loss))"
      ],
      "execution_count": 5,
      "outputs": [
        {
          "output_type": "stream",
          "text": [
            "(?, 28, 28, 1)\n",
            "(?, 14, 14, 8)\n",
            "(?, 13, 13, 8)\n",
            "(?, 13, 13, 32)\n",
            "(?, 7, 7, 32)\n",
            "(?, 7, 7, 32)\n",
            "(?, 6, 6, 32)\n",
            "(?, 1568)\n",
            "(?, 64)\n",
            "(?, 1)\n",
            "Epoch: 0, Loss: 42667088.0\n",
            "Epoch: 1, Loss: 1710415104.0\n",
            "Epoch: 2, Loss: 139540128.0\n",
            "Epoch: 3, Loss: 294044544.0\n",
            "Epoch: 4, Loss: 812587200.0\n",
            "Epoch: 5, Loss: 636660416.0\n",
            "Epoch: 6, Loss: 219872528.0\n",
            "Epoch: 7, Loss: 12452434.0\n",
            "Epoch: 8, Loss: 82857184.0\n",
            "Epoch: 9, Loss: 249241184.0\n"
          ],
          "name": "stdout"
        }
      ]
    }
  ]
}